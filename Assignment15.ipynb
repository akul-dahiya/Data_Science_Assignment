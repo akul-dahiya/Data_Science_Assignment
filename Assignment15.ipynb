{
 "cells": [
  {
   "cell_type": "markdown",
   "id": "e13db1de-6fc1-4dfe-ae0f-e65bdda1060a",
   "metadata": {},
   "source": [
    "Q1. What is Flask Framework? What are the advantages of Flask Framework?\n",
    "\n",
    "Ans. Flask is a lightweight and micro web framework for Python. It is designed to be simple, easy to use, and flexible, making it an excellent choice for developing web applications and APIs. Flask does not come with a lot of built-in functionality, but it provides the essentials needed for web development while allowing developers to choose and integrate additional libraries and components as needed.\n",
    "\n",
    "Advantages of Flask Framework:\n",
    "\n",
    "Flask follows a \"micro\" philosophy, which means it provides just the basic tools and features needed for web development. This minimalistic approach gives developers the freedom to choose and add only the components they need, resulting in a lightweight and efficient application.\n",
    "\n",
    "Flask is highly flexible and allows developers to structure their applications in a way that suits their specific requirements. It doesn't impose a rigid project structure or force the use of specific libraries.\n",
    "\n",
    "Flask is known for its simplicity and ease of learning, making it an excellent choice for both beginners and experienced developers. Its small codebase and clear documentation make it easy to understand and get started with.\n",
    "\n",
    "Flask comes with a built-in development server, making it convenient for testing and debugging during the development phase."
   ]
  },
  {
   "cell_type": "markdown",
   "id": "1f1a6b33-0d94-4f32-98f5-04dc2eaa12eb",
   "metadata": {},
   "source": [
    "Q2. Create a simple Flask application to display ‘Hello World!!’. Attach the screenshot of the output in\n",
    "Jupyter Notebook.\n",
    "\n",
    "Ans. "
   ]
  },
  {
   "cell_type": "code",
   "execution_count": 1,
   "id": "ab591403-1a97-4963-8cfc-64f810c59e76",
   "metadata": {},
   "outputs": [
    {
     "name": "stdout",
     "output_type": "stream",
     "text": [
      "Requirement already satisfied: flask in /opt/conda/lib/python3.10/site-packages (2.3.3)\n",
      "Requirement already satisfied: Jinja2>=3.1.2 in /opt/conda/lib/python3.10/site-packages (from flask) (3.1.2)\n",
      "Requirement already satisfied: click>=8.1.3 in /opt/conda/lib/python3.10/site-packages (from flask) (8.1.3)\n",
      "Requirement already satisfied: Werkzeug>=2.3.7 in /opt/conda/lib/python3.10/site-packages (from flask) (2.3.7)\n",
      "Requirement already satisfied: itsdangerous>=2.1.2 in /opt/conda/lib/python3.10/site-packages (from flask) (2.1.2)\n",
      "Requirement already satisfied: blinker>=1.6.2 in /opt/conda/lib/python3.10/site-packages (from flask) (1.6.2)\n",
      "Requirement already satisfied: MarkupSafe>=2.0 in /opt/conda/lib/python3.10/site-packages (from Jinja2>=3.1.2->flask) (2.1.1)\n",
      "Note: you may need to restart the kernel to use updated packages.\n"
     ]
    }
   ],
   "source": [
    "pip install flask"
   ]
  },
  {
   "cell_type": "code",
   "execution_count": null,
   "id": "8d0f5598-0501-4476-8928-484924287081",
   "metadata": {},
   "outputs": [
    {
     "name": "stdout",
     "output_type": "stream",
     "text": [
      " * Serving Flask app '__main__'\n",
      " * Debug mode: off\n"
     ]
    },
    {
     "name": "stderr",
     "output_type": "stream",
     "text": [
      "WARNING: This is a development server. Do not use it in a production deployment. Use a production WSGI server instead.\n",
      " * Running on all addresses (0.0.0.0)\n",
      " * Running on http://127.0.0.1:5000\n",
      " * Running on http://172.18.0.35:5000\n",
      "Press CTRL+C to quit\n"
     ]
    }
   ],
   "source": [
    "from flask import Flask\n",
    "\n",
    "app = Flask(__name__)\n",
    "\n",
    "@app.route(\"/\")\n",
    "def hello_world():\n",
    "    return \"<h1>Hello World!!</h1>\"\n",
    "\n",
    "if __name__==\"__main__\":\n",
    "    app.run(host=\"0.0.0.0\")"
   ]
  },
  {
   "cell_type": "markdown",
   "id": "f9bb8633-7e64-4cff-8f5c-c51875ea77cc",
   "metadata": {},
   "source": [
    "![Screenshot](C:\\Users\\akuld\\OneDrive\\Desktop)\n",
    "\n"
   ]
  },
  {
   "cell_type": "markdown",
   "id": "0b473691-7940-4cbc-99d5-328be271eeb6",
   "metadata": {},
   "source": [
    "Q3. What is App routing in Flask? Why do we use app routes?\n",
    "\n",
    "Ans.App routing in Flask refers to the process of mapping URLs (Uniform Resource Locators) to specific functions or view handlers in a Flask application. It defines how different routes or URLs are associated with different parts of your application and what actions should be taken when a user accesses those routes.\n",
    "\n",
    "In Flask, the @app.route() decorator is commonly used to define routes and associate them with Python functions. \n",
    "\n",
    "Uses of app routes:\n",
    "\n",
    "App routing allows you to map specific URLs to the appropriate functionality or view handlers in your Flask application. This helps organize and structure your web application logically.\n",
    "\n",
    "Flask allows you to create modular applications by defining routes and views as separate functions. This makes it easier to manage and extend your application as it grows.\n",
    "\n",
    "App routes enable users to navigate through your web application by clicking links or typing URLs in their web browsers. You can define routes for various pages or sections of your site.\n",
    "\n",
    "By separating route handling logic into distinct functions, your code remains clean and organized, making it easier to understand, maintain, and test."
   ]
  },
  {
   "cell_type": "markdown",
   "id": "3414d87b-9a97-48fc-baa4-08839d371941",
   "metadata": {},
   "source": [
    "Q4. Create a “/welcome” route to display the welcome message “Welcome to ABC Corporation” and a “/”\n",
    "route to show the following details:\n",
    "Company Name: ABC Corporation\n",
    "Location: India\n",
    "Contact Detail: 999-999-9999\n",
    "Attach the screenshot of the output in Jupyter Notebook.\n",
    "\n",
    "Ans.\n",
    "\n"
   ]
  },
  {
   "cell_type": "code",
   "execution_count": null,
   "id": "3bef90b0-c3bb-4f74-b09b-4cc380f9d159",
   "metadata": {},
   "outputs": [],
   "source": [
    "from flask import Flask\n",
    "\n",
    "app = Flask(__name__)\n",
    "\n",
    "@app.route(\"/welcome\")\n",
    "def hello_world():\n",
    "    return \"<h1>Welcome to ABC Corporation</h1>\"\n",
    "\n",
    "@app.route('/')\n",
    "def company_details():\n",
    "    return '''Company Name: ABC Corporation <br>\n",
    "               Location: India <br>\n",
    "               Contact Detail: 999-999-9999'''\n",
    "\n",
    "if __name__==\"__main__\":\n",
    "    app.run(host=\"0.0.0.0\")\n"
   ]
  },
  {
   "cell_type": "markdown",
   "id": "ea4e813b-13fc-4e30-957c-a166d1fdcd24",
   "metadata": {},
   "source": [
    "![Screenshot](C:\\Users\\akuld\\OneDrive\\Desktop)"
   ]
  },
  {
   "cell_type": "markdown",
   "id": "700fff8f-3031-4d2e-a705-26daaf680d92",
   "metadata": {},
   "source": [
    "![Screenshot](C:\\Users\\akuld\\OneDrive\\Desktop)"
   ]
  },
  {
   "cell_type": "markdown",
   "id": "bbb89196-2c45-407b-9ed4-2a6fe5899c34",
   "metadata": {},
   "source": [
    "Q5. What function is used in Flask for URL Building? Write a Python code to demonstrate the working of the\n",
    "url_for() function.\n",
    "\n",
    "Ans. In Flask, the url_for() function is used for URL building. It generates URLs for routes defined in your Flask application based on the route's function name. This is particularly useful when you want to create links to specific routes in your templates or code without hardcoding the URLs."
   ]
  },
  {
   "cell_type": "code",
   "execution_count": null,
   "id": "a30c6b5b-88b7-4fd4-ac2b-c1e12d5046e7",
   "metadata": {},
   "outputs": [],
   "source": [
    "from flask import Flask, url_for, render_template\n",
    "\n",
    "app = Flask(__name__)\n",
    "\n",
    "@app.route('/welcome')\n",
    "def welcome():\n",
    "    return 'Welcome to ABC Corporation'\n",
    "\n",
    "@app.route('/')\n",
    "def company_details():\n",
    "    return '''Company Name: ABC Corporation<br>\n",
    "Location: India<br>\n",
    "Contact Detail: 999-999-9999'''\n",
    "\n",
    "# Create a new route to demonstrate url_for()\n",
    "@app.route('/link_to_welcome')\n",
    "def link_to_welcome():\n",
    "    # Generate a URL for the 'welcome' route using url_for()\n",
    "    welcome_url = url_for('welcome')\n",
    "    return f'Click <a href=\"{welcome_url}\">here</a> to visit the welcome page.'\n",
    "\n",
    "if __name__ == '__main__':\n",
    "    app.run(host=\"0.0.0.0\")\n"
   ]
  }
 ],
 "metadata": {
  "kernelspec": {
   "display_name": "Python 3 (ipykernel)",
   "language": "python",
   "name": "python3"
  },
  "language_info": {
   "codemirror_mode": {
    "name": "ipython",
    "version": 3
   },
   "file_extension": ".py",
   "mimetype": "text/x-python",
   "name": "python",
   "nbconvert_exporter": "python",
   "pygments_lexer": "ipython3",
   "version": "3.10.8"
  }
 },
 "nbformat": 4,
 "nbformat_minor": 5
}
