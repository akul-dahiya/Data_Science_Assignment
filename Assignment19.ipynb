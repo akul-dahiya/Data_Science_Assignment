{
 "cells": [
  {
   "cell_type": "markdown",
   "id": "7bf9e252-3873-41b2-b8b7-8218e2981a4c",
   "metadata": {},
   "source": [
    "Q1. Create a Pandas Series that contains the following data: 4, 8, 15, 16, 23, and 42. Then, print the series.\n",
    "\n",
    "Ans."
   ]
  },
  {
   "cell_type": "code",
   "execution_count": 1,
   "id": "1796acf5-3e0a-4d36-866b-b19ef1270a06",
   "metadata": {},
   "outputs": [],
   "source": [
    "import pandas as pd"
   ]
  },
  {
   "cell_type": "code",
   "execution_count": 3,
   "id": "147c95c8-1c74-4ef8-b96d-dd1703ce0bc5",
   "metadata": {},
   "outputs": [
    {
     "name": "stdout",
     "output_type": "stream",
     "text": [
      "Requirement already satisfied: pandas in /opt/conda/lib/python3.10/site-packages (1.5.2)\n",
      "Requirement already satisfied: python-dateutil>=2.8.1 in /opt/conda/lib/python3.10/site-packages (from pandas) (2.8.2)\n",
      "Requirement already satisfied: pytz>=2020.1 in /opt/conda/lib/python3.10/site-packages (from pandas) (2022.6)\n",
      "Requirement already satisfied: numpy>=1.21.0 in /opt/conda/lib/python3.10/site-packages (from pandas) (1.23.5)\n",
      "Requirement already satisfied: six>=1.5 in /opt/conda/lib/python3.10/site-packages (from python-dateutil>=2.8.1->pandas) (1.16.0)\n",
      "Note: you may need to restart the kernel to use updated packages.\n"
     ]
    }
   ],
   "source": [
    "pip install pandas"
   ]
  },
  {
   "cell_type": "code",
   "execution_count": 2,
   "id": "820b89bc-05da-4f01-a681-8fd5a0d8aaa2",
   "metadata": {},
   "outputs": [
    {
     "name": "stdout",
     "output_type": "stream",
     "text": [
      "0     4\n",
      "1     8\n",
      "2    15\n",
      "3    16\n",
      "4    23\n",
      "5    42\n",
      "dtype: int64\n"
     ]
    }
   ],
   "source": [
    "data = [4,8,15,16,23,42]\n",
    "my_series = pd.Series(data)\n",
    "print(my_series)"
   ]
  },
  {
   "cell_type": "markdown",
   "id": "2ef288c5-4742-4ea7-97e6-86d9cdfd6843",
   "metadata": {},
   "source": [
    "Q2. Create a variable of list type containing 10 elements in it, and apply pandas.Series function on the\n",
    "variable print it.\n",
    "\n",
    "Ans."
   ]
  },
  {
   "cell_type": "code",
   "execution_count": 3,
   "id": "b848d300-ccec-4a63-92f3-c42df9a5f6bf",
   "metadata": {},
   "outputs": [
    {
     "data": {
      "text/plain": [
       "0    1\n",
       "1    2\n",
       "2    3\n",
       "3    4\n",
       "4    5\n",
       "5    6\n",
       "6    7\n",
       "7    8\n",
       "8    9\n",
       "9    3\n",
       "dtype: int64"
      ]
     },
     "execution_count": 3,
     "metadata": {},
     "output_type": "execute_result"
    }
   ],
   "source": [
    "l = [1,2,3,4,5,6,7,8,9,3]\n",
    "pd.Series(l)"
   ]
  },
  {
   "cell_type": "markdown",
   "id": "e0278ae9-1694-4f82-899a-3346a76685dd",
   "metadata": {},
   "source": [
    "Q3. Create a Pandas DataFrame that contains the following data:\n",
    "    Then Print the DataFrame.\n",
    "    \n",
    "Ans."
   ]
  },
  {
   "cell_type": "code",
   "execution_count": 4,
   "id": "2125824e-4793-4bb1-82f1-57eb8fa21987",
   "metadata": {},
   "outputs": [
    {
     "name": "stdout",
     "output_type": "stream",
     "text": [
      "     Name  Age  Gender\n",
      "0   Alice   25  Female\n",
      "1     Bob   30    Male\n",
      "2  Claire   27  Female\n"
     ]
    }
   ],
   "source": [
    "data = {\n",
    "    'Name' : ['Alice','Bob','Claire'],\n",
    "    'Age' : [25,30,27],\n",
    "    'Gender' : ['Female','Male','Female']\n",
    "}\n",
    "df = pd.DataFrame(data)\n",
    "print(df)"
   ]
  },
  {
   "cell_type": "markdown",
   "id": "81be5b15-827e-438b-b7e2-318cd2fbf05c",
   "metadata": {},
   "source": [
    "Q4. What is ‘DataFrame’ in pandas and how is it different from pandas.series? Explain with an example.\n",
    "\n",
    "Ans.  DataFrame:\n",
    "\n",
    "A DataFrame is a two-dimensional, tabular data structure that resembles a spreadsheet or a SQL table.\n",
    "It is similar to a collection of Pandas Series where each column is a Series, and columns can have different data types.\n",
    "It is often used to represent and manipulate structured data, such as datasets with rows and columns.\n",
    "You can think of a DataFrame as a container for Series objects, where each column is a Series.\n",
    "\n",
    "Series:\n",
    "\n",
    "A Series, on the other hand, is a one-dimensional labeled array capable of holding data of any type.\n",
    "It is like a single column of data in a DataFrame.\n",
    "Series is often used to represent a single column or row of data, or as the output of a single column selection from a DataFrame.\n",
    "\n",
    "Example:"
   ]
  },
  {
   "cell_type": "code",
   "execution_count": 5,
   "id": "14587f77-5601-44a5-bf1b-60091ae7a2d6",
   "metadata": {},
   "outputs": [
    {
     "name": "stdout",
     "output_type": "stream",
     "text": [
      "DataFrame:\n",
      "     Name  Age  Gender\n",
      "0   Alice   25  Female\n",
      "1     Bob   30    Male\n",
      "2  Claire   27  Female\n",
      "\n",
      "Series (Age):\n",
      "0    25\n",
      "1    30\n",
      "2    27\n",
      "Name: Age, dtype: int64\n"
     ]
    }
   ],
   "source": [
    "data = {\n",
    "    'Name' : ['Alice','Bob','Claire'],\n",
    "    'Age' : [25,30,27],\n",
    "    'Gender' : ['Female','Male','Female']\n",
    "}\n",
    "df = pd.DataFrame(data)\n",
    "\n",
    "age_series = df['Age']\n",
    "\n",
    "print(\"DataFrame:\")\n",
    "print(df)\n",
    "print(\"\\nSeries (Age):\")\n",
    "print(age_series)"
   ]
  },
  {
   "cell_type": "markdown",
   "id": "15c63cdf-a48d-48a3-8c06-227df043227a",
   "metadata": {},
   "source": [
    "Q5. What are some common functions you can use to manipulate data in a Pandas DataFrame? Can\n",
    "you give an example of when you might use one of these functions?\n",
    "\n",
    "Ans. Pandas provides a wide range of functions to manipulate and analyze data in a DataFrame. Here are some common functions and methods frequently used for data manipulation in a Pandas DataFrame, along with examples of when you might use them:"
   ]
  },
  {
   "cell_type": "markdown",
   "id": "1ade8f73-b085-4a2d-8b84-03ad121fbea6",
   "metadata": {},
   "source": [
    "head() and tail(): These functions allow you to view the first or last few rows of a DataFrame. They are useful for quickly inspecting data."
   ]
  },
  {
   "cell_type": "code",
   "execution_count": 6,
   "id": "b379f687-d397-49d9-9139-10492384271f",
   "metadata": {},
   "outputs": [
    {
     "data": {
      "text/html": [
       "<div>\n",
       "<style scoped>\n",
       "    .dataframe tbody tr th:only-of-type {\n",
       "        vertical-align: middle;\n",
       "    }\n",
       "\n",
       "    .dataframe tbody tr th {\n",
       "        vertical-align: top;\n",
       "    }\n",
       "\n",
       "    .dataframe thead th {\n",
       "        text-align: right;\n",
       "    }\n",
       "</style>\n",
       "<table border=\"1\" class=\"dataframe\">\n",
       "  <thead>\n",
       "    <tr style=\"text-align: right;\">\n",
       "      <th></th>\n",
       "      <th>Name</th>\n",
       "      <th>Age</th>\n",
       "      <th>Gender</th>\n",
       "    </tr>\n",
       "  </thead>\n",
       "  <tbody>\n",
       "    <tr>\n",
       "      <th>0</th>\n",
       "      <td>Alice</td>\n",
       "      <td>25</td>\n",
       "      <td>Female</td>\n",
       "    </tr>\n",
       "    <tr>\n",
       "      <th>1</th>\n",
       "      <td>Bob</td>\n",
       "      <td>30</td>\n",
       "      <td>Male</td>\n",
       "    </tr>\n",
       "    <tr>\n",
       "      <th>2</th>\n",
       "      <td>Claire</td>\n",
       "      <td>27</td>\n",
       "      <td>Female</td>\n",
       "    </tr>\n",
       "  </tbody>\n",
       "</table>\n",
       "</div>"
      ],
      "text/plain": [
       "     Name  Age  Gender\n",
       "0   Alice   25  Female\n",
       "1     Bob   30    Male\n",
       "2  Claire   27  Female"
      ]
     },
     "execution_count": 6,
     "metadata": {},
     "output_type": "execute_result"
    }
   ],
   "source": [
    "# View the first 5 rows of a DataFrame\n",
    "df.head()\n",
    "\n",
    "# View the last 3 rows of a DataFrame\n",
    "df.tail(3)\n"
   ]
  },
  {
   "cell_type": "markdown",
   "id": "51a62aba-cbcc-4010-b386-14caba581825",
   "metadata": {},
   "source": [
    "info(): Provides information about the DataFrame, including the data types, non-null counts, and memory usage. Useful for understanding the dataset's structure."
   ]
  },
  {
   "cell_type": "code",
   "execution_count": 7,
   "id": "2b44c701-fb86-4d76-bb10-08c3bb3709ad",
   "metadata": {},
   "outputs": [
    {
     "name": "stdout",
     "output_type": "stream",
     "text": [
      "<class 'pandas.core.frame.DataFrame'>\n",
      "RangeIndex: 3 entries, 0 to 2\n",
      "Data columns (total 3 columns):\n",
      " #   Column  Non-Null Count  Dtype \n",
      "---  ------  --------------  ----- \n",
      " 0   Name    3 non-null      object\n",
      " 1   Age     3 non-null      int64 \n",
      " 2   Gender  3 non-null      object\n",
      "dtypes: int64(1), object(2)\n",
      "memory usage: 200.0+ bytes\n"
     ]
    }
   ],
   "source": [
    "df.info()\n"
   ]
  },
  {
   "cell_type": "markdown",
   "id": "e55e8fef-83eb-4bdf-a3ed-4f2fea493751",
   "metadata": {},
   "source": [
    "sort_values(): Sorts the DataFrame by one or more columns. Useful for arranging data in ascending or descending order."
   ]
  },
  {
   "cell_type": "code",
   "execution_count": 8,
   "id": "89d41850-f5a3-4433-9e98-d859db15329a",
   "metadata": {},
   "outputs": [
    {
     "data": {
      "text/html": [
       "<div>\n",
       "<style scoped>\n",
       "    .dataframe tbody tr th:only-of-type {\n",
       "        vertical-align: middle;\n",
       "    }\n",
       "\n",
       "    .dataframe tbody tr th {\n",
       "        vertical-align: top;\n",
       "    }\n",
       "\n",
       "    .dataframe thead th {\n",
       "        text-align: right;\n",
       "    }\n",
       "</style>\n",
       "<table border=\"1\" class=\"dataframe\">\n",
       "  <thead>\n",
       "    <tr style=\"text-align: right;\">\n",
       "      <th></th>\n",
       "      <th>Name</th>\n",
       "      <th>Age</th>\n",
       "      <th>Gender</th>\n",
       "    </tr>\n",
       "  </thead>\n",
       "  <tbody>\n",
       "    <tr>\n",
       "      <th>0</th>\n",
       "      <td>Alice</td>\n",
       "      <td>25</td>\n",
       "      <td>Female</td>\n",
       "    </tr>\n",
       "    <tr>\n",
       "      <th>2</th>\n",
       "      <td>Claire</td>\n",
       "      <td>27</td>\n",
       "      <td>Female</td>\n",
       "    </tr>\n",
       "    <tr>\n",
       "      <th>1</th>\n",
       "      <td>Bob</td>\n",
       "      <td>30</td>\n",
       "      <td>Male</td>\n",
       "    </tr>\n",
       "  </tbody>\n",
       "</table>\n",
       "</div>"
      ],
      "text/plain": [
       "     Name  Age  Gender\n",
       "0   Alice   25  Female\n",
       "2  Claire   27  Female\n",
       "1     Bob   30    Male"
      ]
     },
     "execution_count": 8,
     "metadata": {},
     "output_type": "execute_result"
    }
   ],
   "source": [
    "# Sort by the \"Age\" column in ascending order\n",
    "df.sort_values(by='Age', ascending=True)\n"
   ]
  },
  {
   "cell_type": "markdown",
   "id": "2abfaef9-569d-412b-a047-c845a2360e69",
   "metadata": {},
   "source": [
    "groupby(): Groups data based on one or more columns and allows you to perform aggregate operations (e.g., sum, mean, count) on the groups."
   ]
  },
  {
   "cell_type": "code",
   "execution_count": 9,
   "id": "6fa0fc9b-15d2-4e1c-b4f8-b7d46a7b47e5",
   "metadata": {},
   "outputs": [
    {
     "data": {
      "text/plain": [
       "Gender\n",
       "Female    26.0\n",
       "Male      30.0\n",
       "Name: Age, dtype: float64"
      ]
     },
     "execution_count": 9,
     "metadata": {},
     "output_type": "execute_result"
    }
   ],
   "source": [
    "# Group by \"Gender\" and calculate the average age in each group\n",
    "df.groupby('Gender')['Age'].mean()\n"
   ]
  },
  {
   "cell_type": "markdown",
   "id": "82537738-49ec-459d-8170-ea4d2ade94c5",
   "metadata": {},
   "source": [
    "pivot_table(): Creates a pivot table, summarizing data by aggregating values from rows and columns. Useful for cross-tabulation and summary reports."
   ]
  },
  {
   "cell_type": "code",
   "execution_count": 10,
   "id": "aebf1bdf-bc86-412d-b544-f42e63f4d275",
   "metadata": {},
   "outputs": [
    {
     "data": {
      "text/html": [
       "<div>\n",
       "<style scoped>\n",
       "    .dataframe tbody tr th:only-of-type {\n",
       "        vertical-align: middle;\n",
       "    }\n",
       "\n",
       "    .dataframe tbody tr th {\n",
       "        vertical-align: top;\n",
       "    }\n",
       "\n",
       "    .dataframe thead th {\n",
       "        text-align: right;\n",
       "    }\n",
       "</style>\n",
       "<table border=\"1\" class=\"dataframe\">\n",
       "  <thead>\n",
       "    <tr style=\"text-align: right;\">\n",
       "      <th>Name</th>\n",
       "      <th>Alice</th>\n",
       "      <th>Bob</th>\n",
       "      <th>Claire</th>\n",
       "    </tr>\n",
       "    <tr>\n",
       "      <th>Gender</th>\n",
       "      <th></th>\n",
       "      <th></th>\n",
       "      <th></th>\n",
       "    </tr>\n",
       "  </thead>\n",
       "  <tbody>\n",
       "    <tr>\n",
       "      <th>Female</th>\n",
       "      <td>25.0</td>\n",
       "      <td>NaN</td>\n",
       "      <td>27.0</td>\n",
       "    </tr>\n",
       "    <tr>\n",
       "      <th>Male</th>\n",
       "      <td>NaN</td>\n",
       "      <td>30.0</td>\n",
       "      <td>NaN</td>\n",
       "    </tr>\n",
       "  </tbody>\n",
       "</table>\n",
       "</div>"
      ],
      "text/plain": [
       "Name    Alice   Bob  Claire\n",
       "Gender                     \n",
       "Female   25.0   NaN    27.0\n",
       "Male      NaN  30.0     NaN"
      ]
     },
     "execution_count": 10,
     "metadata": {},
     "output_type": "execute_result"
    }
   ],
   "source": [
    "# Create a pivot table to summarize data\n",
    "pd.pivot_table(df, values='Age', index='Gender', columns='Name', aggfunc='mean')\n"
   ]
  },
  {
   "cell_type": "markdown",
   "id": "554efed0-b19e-40f7-9614-aa9361e0b21a",
   "metadata": {},
   "source": [
    "drop(): Allows you to remove rows or columns from the DataFrame."
   ]
  },
  {
   "cell_type": "code",
   "execution_count": 11,
   "id": "6886ce5b-3e5e-4f19-8e42-69cc353d2a3b",
   "metadata": {},
   "outputs": [],
   "source": [
    "# Remove the \"Age\" column\n",
    "df = df.drop(columns=['Age'])\n"
   ]
  },
  {
   "cell_type": "markdown",
   "id": "8febcca0-63f9-4fa2-864f-eb1c6360fddf",
   "metadata": {},
   "source": [
    "Q6. Which of the following is mutable in nature Series, DataFrame, Panel?\n",
    "\n",
    "Ans.  Series: A Pandas Series is one-dimensional and mutable. This means you can change the values of individual elements within a Series after it has been created. You can use indexing to modify specific elements.\n",
    "\n",
    "DataFrame: A Pandas DataFrame is two-dimensional and mutable. You can change the values of individual cells or entire columns within a DataFrame. You can also add or remove columns.\n",
    "\n",
    "Panel: A Panel was a three-dimensional data structure in older versions of Pandas (prior to version 0.25). However, Panels have been deprecated in more recent versions of Pandas, and users are encouraged to use MultiIndex DataFrames or other data structures instead. Panels were mutable when they existed."
   ]
  },
  {
   "cell_type": "markdown",
   "id": "f6c70049-ec8a-4ae9-93bf-cf99b8bfddef",
   "metadata": {},
   "source": [
    "Q7. Create a DataFrame using multiple Series. Explain with an example.\n",
    "\n",
    "Ans."
   ]
  },
  {
   "cell_type": "code",
   "execution_count": 13,
   "id": "05137644-7363-4eb8-ae2b-625d1be1be97",
   "metadata": {},
   "outputs": [
    {
     "name": "stdout",
     "output_type": "stream",
     "text": [
      "     Name  Age\n",
      "0    Akul   20\n",
      "1   Rahul   22\n",
      "2  Sammer   21\n"
     ]
    }
   ],
   "source": [
    "name_series = pd.Series(['Akul' , 'Rahul' , 'Sammer'])\n",
    "age_series = pd.Series([20 , 22 , 21])\n",
    "df = pd.DataFrame({'Name' : name_series , 'Age' : age_series})\n",
    "print(df)"
   ]
  },
  {
   "cell_type": "code",
   "execution_count": null,
   "id": "8dbe871a-0a8c-4e2a-809a-84ae2e1e9ba8",
   "metadata": {},
   "outputs": [],
   "source": []
  }
 ],
 "metadata": {
  "kernelspec": {
   "display_name": "Python 3 (ipykernel)",
   "language": "python",
   "name": "python3"
  },
  "language_info": {
   "codemirror_mode": {
    "name": "ipython",
    "version": 3
   },
   "file_extension": ".py",
   "mimetype": "text/x-python",
   "name": "python",
   "nbconvert_exporter": "python",
   "pygments_lexer": "ipython3",
   "version": "3.10.8"
  }
 },
 "nbformat": 4,
 "nbformat_minor": 5
}
