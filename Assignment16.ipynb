{
 "cells": [
  {
   "cell_type": "markdown",
   "id": "03bb1b2a-4344-4fd5-9316-3b6c53c3a972",
   "metadata": {},
   "source": [
    "Q1. Explain GET and POST methods.\n",
    "\n",
    "Ans. Get method:\n",
    "\n",
    " The GET method is used to request data from a specified resource, typically to retrieve information from the server. It is a read-only operation and does not modify data on the server.Data is appended to the URL as query parameters. For example, in a URL like https://example.com/search?query=keyword, the query parameter query has the value keyword. Query parameters are visible in the URL, which means that any data sent using GET is visible in the browser's address bar. This is not suitable for sensitive data like passwords.GET requests are typically cached by browsers, which means that if the same request is made again, the browser may use a cached response instead of making a new request to the server.\n",
    " \n",
    " Post methods:\n",
    " \n",
    " The POST method is used to submit data to be processed to a specified resource, typically to create or update data on the server. It is not limited to reading data and can be used for various operations, including data submission, file uploads, and form submissions. Data is sent in the request body rather than being appended to the URL. This makes it suitable for sending larger amounts of data or sensitive information like passwords.  Data sent using POST is not visible in the URL or the browser's address bar, making it more secure for sensitive information.POST requests are generally not cached by browsers because they can have side effects on the server, such as creating or modifying data."
   ]
  },
  {
   "cell_type": "markdown",
   "id": "949a509a-4e85-418a-8b8e-4c48ed417f39",
   "metadata": {},
   "source": [
    "Q2. Why is request used in Flask?\n",
    "\n",
    "Ans. In Flask, the request object is a built-in object that represents the incoming HTTP request sent by a client (typically a web browser) to the Flask web application. It is a fundamental part of Flask and is used to access various details and data associated with the incoming request.  When handling HTML forms submitted by users, Flask provides convenient methods within the request object to parse and access form data. You can use request.form to access form data sent via the POST method."
   ]
  },
  {
   "cell_type": "markdown",
   "id": "29932ddb-110b-448d-84d6-ec50af8f6690",
   "metadata": {},
   "source": [
    "Q3. Why is redirect() used in Flask?\n",
    "\n",
    "Ans. In Flask, the redirect() function is used to perform a redirection to another URL within your web application. The primary purpose of redirect() is to send an HTTP response to the client's browser, instructing it to navigate to a different URL. This is particularly useful for routing users to different pages or resources within your web application.  Redirects are often used to handle user actions, such as after a successful form submission or login. After a user submits a form or logs in, you can redirect them to a different page, such as a dashboard or a confirmation page. Redirects can be used to change the URL displayed in the user's browser. This is helpful when you want to provide a more user-friendly or canonical URL for a resource, or when you want to handle URL changes gracefully, such as when migrating or restructuring a website."
   ]
  },
  {
   "cell_type": "markdown",
   "id": "6ae449d7-a699-478a-a5fe-97029a7879cb",
   "metadata": {},
   "source": [
    "Q4. What are templates in Flask? Why is the render_template() function used?\n",
    "\n",
    "Ans.In Flask, templates are a critical component of web development that allows you to separate the presentation logic (HTML code) from the application logic (Python code). Templates are used to generate dynamic HTML content that can be served to clients (web browsers) as web pages. The primary purpose of templates is to create consistent and maintainable web pages by injecting dynamic data into HTML.\n",
    "\n",
    "render_template() function use:\n",
    "\n",
    "Loading the HTML template files: Flask looks for template files in a directory named templates by default. You provide the name of the template file (without the file extension) as an argument to render_template().\n",
    "\n",
    "Rendering the template: The function renders the template by substituting dynamic data into placeholders or template tags within the HTML file. These placeholders are typically enclosed in double curly braces, like {{ variable }}, where variable represents the dynamic data to be inserted."
   ]
  },
  {
   "cell_type": "markdown",
   "id": "4d9f635c-d27c-49ec-96cc-fad97244d60e",
   "metadata": {},
   "source": [
    "Q5. Create a simple API. Use Postman to test it. Attach the screenshot of the output in the Jupyter Notebook.\n",
    "\n",
    "Ans."
   ]
  },
  {
   "cell_type": "code",
   "execution_count": 2,
   "id": "d6f50dbf-0136-4c2d-8603-41ed9e589ba4",
   "metadata": {},
   "outputs": [
    {
     "name": "stdout",
     "output_type": "stream",
     "text": [
      "Collecting flask\n",
      "  Downloading flask-2.3.3-py3-none-any.whl (96 kB)\n",
      "\u001b[2K     \u001b[90m━━━━━━━━━━━━━━━━━━━━━━━━━━━━━━━━━━━━━━━━\u001b[0m \u001b[32m96.1/96.1 kB\u001b[0m \u001b[31m11.4 MB/s\u001b[0m eta \u001b[36m0:00:00\u001b[0m\n",
      "\u001b[?25hRequirement already satisfied: Jinja2>=3.1.2 in /opt/conda/lib/python3.10/site-packages (from flask) (3.1.2)\n",
      "Collecting itsdangerous>=2.1.2\n",
      "  Downloading itsdangerous-2.1.2-py3-none-any.whl (15 kB)\n",
      "Collecting blinker>=1.6.2\n",
      "  Downloading blinker-1.6.2-py3-none-any.whl (13 kB)\n",
      "Requirement already satisfied: click>=8.1.3 in /opt/conda/lib/python3.10/site-packages (from flask) (8.1.3)\n",
      "Collecting Werkzeug>=2.3.7\n",
      "  Downloading werkzeug-2.3.7-py3-none-any.whl (242 kB)\n",
      "\u001b[2K     \u001b[90m━━━━━━━━━━━━━━━━━━━━━━━━━━━━━━━━━━━━━━\u001b[0m \u001b[32m242.2/242.2 kB\u001b[0m \u001b[31m25.2 MB/s\u001b[0m eta \u001b[36m0:00:00\u001b[0m\n",
      "\u001b[?25hRequirement already satisfied: MarkupSafe>=2.0 in /opt/conda/lib/python3.10/site-packages (from Jinja2>=3.1.2->flask) (2.1.1)\n",
      "Installing collected packages: Werkzeug, itsdangerous, blinker, flask\n",
      "  Attempting uninstall: blinker\n",
      "    Found existing installation: blinker 1.5\n",
      "    Uninstalling blinker-1.5:\n",
      "      Successfully uninstalled blinker-1.5\n",
      "Successfully installed Werkzeug-2.3.7 blinker-1.6.2 flask-2.3.3 itsdangerous-2.1.2\n",
      "Note: you may need to restart the kernel to use updated packages.\n"
     ]
    }
   ],
   "source": [
    "pip install flask"
   ]
  },
  {
   "cell_type": "code",
   "execution_count": null,
   "id": "ecc7edc6-a87b-43b4-b7ba-ae8efcbc162a",
   "metadata": {},
   "outputs": [
    {
     "name": "stdout",
     "output_type": "stream",
     "text": [
      " * Serving Flask app '__main__'\n",
      " * Debug mode: off\n"
     ]
    },
    {
     "name": "stderr",
     "output_type": "stream",
     "text": [
      "WARNING: This is a development server. Do not use it in a production deployment. Use a production WSGI server instead.\n",
      " * Running on all addresses (0.0.0.0)\n",
      " * Running on http://127.0.0.1:5000\n",
      " * Running on http://172.18.0.45:5000\n",
      "Press CTRL+C to quit\n"
     ]
    }
   ],
   "source": [
    "from flask import Flask,render_template , request ,jsonify\n",
    "\n",
    "app = Flask(__name__)\n",
    "\n",
    "\n",
    "@app.route('/',methods = ['GET' ,'POST'])\n",
    "def home_page():\n",
    "    return render_template('index.html')\n",
    "\n",
    "@app.route('/math', methods = ['POST'])\n",
    "def math_operation():\n",
    "    if(request.method == 'POST'):\n",
    "        ops = request.form['operation']\n",
    "        num1 = int(request.form['num1'])\n",
    "        num2 = int(request.form['num2'])\n",
    "        if(ops == 'add'):\n",
    "            r = num1 + num2\n",
    "            result = 'The sum of    ' + str(num1) + ' and ' +str(num2) + ' is ' + str(r)\n",
    "        \n",
    "        if(ops == 'subtract'):\n",
    "            r = num1 - num2\n",
    "            result = 'The subtraction of    ' + str(num1) + ' and ' +str(num2) + ' is ' + str(r)\n",
    "        \n",
    "        if(ops == 'multiply'):\n",
    "            r = num1 * num2\n",
    "            result = 'The multiplication of    ' + str(num1) + ' and ' +str(num2) + ' is ' + str(r)\n",
    "       \n",
    "        if(ops == 'divide'):\n",
    "            r = num1 / num2\n",
    "            result = 'The divide of    ' + str(num1) + ' and ' +str(num2) + ' is ' + str(r)\n",
    "        \n",
    "        return render_template('results.html' , result = result)\n",
    "\n",
    "@app.route(\"/\")\n",
    "def hello_world():\n",
    "    return \"<h1>Hello, World!</h1>\"\n",
    "\n",
    "if __name__==\"__main__\":\n",
    "    app.run(host=\"0.0.0.0\")\n"
   ]
  },
  {
   "cell_type": "code",
   "execution_count": null,
   "id": "5f99ce2d-7fb6-46b3-a311-0a165e5915e3",
   "metadata": {},
   "outputs": [],
   "source": []
  }
 ],
 "metadata": {
  "kernelspec": {
   "display_name": "Python 3 (ipykernel)",
   "language": "python",
   "name": "python3"
  },
  "language_info": {
   "codemirror_mode": {
    "name": "ipython",
    "version": 3
   },
   "file_extension": ".py",
   "mimetype": "text/x-python",
   "name": "python",
   "nbconvert_exporter": "python",
   "pygments_lexer": "ipython3",
   "version": "3.10.8"
  }
 },
 "nbformat": 4,
 "nbformat_minor": 5
}
