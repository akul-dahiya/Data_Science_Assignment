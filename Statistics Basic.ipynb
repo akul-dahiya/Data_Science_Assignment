{
 "cells": [
  {
   "cell_type": "markdown",
   "id": "9cf196f8-8d79-4021-b1c7-b9be6232031b",
   "metadata": {},
   "source": [
    "Q1. What is Statistics?\n",
    "\n",
    "Ans. Statistics is the science of collecting, organizing and analyzing the data."
   ]
  },
  {
   "cell_type": "markdown",
   "id": "05f46a39-f619-4c1d-af2f-a12489196d04",
   "metadata": {},
   "source": [
    "Q2. Define the different types of statistics and give an example of when each type might be used.\n",
    "\n",
    "Ans. There are two types of statistics:\n",
    "1) Discriptive Statistics: It is used to organize and to summarize the data.\n",
    "Eg. Let there are 30 students in a class. They got the marks of thier exams. So to find the mean , mode ,median of thier marks, we can use the discriptive statistics.\n",
    "2) Inferential Statistics: It is used to make conclusion from the data.\n",
    "Eg. Let there are 30 students in a class. They got the marks of thier exams. So to find if the marks of the students in the class is similar to the marks of the students of  school, we can use Inferential Statistics."
   ]
  },
  {
   "cell_type": "markdown",
   "id": "c33f5f49-66ec-4e43-b81e-cdb6b700ac7b",
   "metadata": {},
   "source": [
    "Q3. What are the different types of data and how do they differ from each other? Provide an example of\n",
    "each type of data.\n",
    "\n",
    "Ans. There are two types of data:\n",
    "1) Quantitative data : In quantitave data the data is the numerical data. Quantitative data is also of two types one is discrete and other is continuos.  The discrete data is the whole number while continuous it can be any value. \n",
    "Eg. no. of members in a family, no. of cars a person have these are the example of discrete data, while weight, height are the example of continous data.\n",
    "2) Qualitative data: In qualitative data the data is the categorical data. Qualitative data is also of two types one is nominal and ordinal data. \n",
    "Eg. Gender, Blood group, PIN code are the example of nominal data while customer feed back is the example of the ordinal data."
   ]
  },
  {
   "cell_type": "markdown",
   "id": "188a2778-f81e-4336-9fd3-54c2d2647a96",
   "metadata": {},
   "source": [
    "Q4. Categorise the following datasets with respect to quantitative and qualitative data types:\n",
    "    \n",
    "(i) Grading in exam: A+, A, B+, B, C+, C, D, E    -- Qualitative data\n",
    "\n",
    "(ii) Colour of mangoes: yellow, green, orange, red  -- Qualitative data\n",
    "\n",
    "(iii) Height data of a class: [178.9, 179, 179.5, 176, 177.2, 178.3, 175.8,...] -- Quantiative data\n",
    "\n",
    "(iv) Number of mangoes exported by a farm: [500, 600, 478, 672, ...] -- Quantitative data."
   ]
  },
  {
   "cell_type": "markdown",
   "id": "57ddfd95-3a3b-4b91-b494-d5efa7d56de7",
   "metadata": {},
   "source": [
    "Q5. Explain the concept of levels of measurement and give an example of a variable for each level."
   ]
  },
  {
   "cell_type": "markdown",
   "id": "a9653335-7fdb-43e4-8320-f432ebd36656",
   "metadata": {},
   "source": [
    "Levels of measurement, also known as scales of measurement, describe the nature of information within the values assigned to variables. There are four type of level of measurement:\n",
    "\n",
    "1) Nominla level: This is the most basic level of measurement. It involves categorizing data without any order or hierarchy. Variables at the nominal level are used to label or name different categories.\n",
    "\n",
    "Eg: Gender, Colours, labels\n",
    "\n",
    "2) Ordinal level: This level of measurement involves categorizing data with a meaningful order or ranking, but the intervals between the categories are not necessarily equal.\n",
    "\n",
    "Eg: App review \n",
    "\n",
    "3) Interval Scale data: This level includes ordered categories that are equidistant from each other. Interval scales do not have a true zero point, meaning zero does not represent the absence of the variable. \n",
    "\n",
    "Eg: Temperature VAriable\n",
    "\n",
    "4) Ratio Scale data: This is the highest level of measurement. It has all the properties of interval measurement, and it also has a true zero point, which indicates the absence of the variable.\n",
    "\n",
    "Eg: Students marks in the class, or the marks of the students in a clssroom."
   ]
  },
  {
   "cell_type": "markdown",
   "id": "b616a515-0d9c-4be3-9a88-e5a0c7203ed7",
   "metadata": {},
   "source": [
    "Q6. Why is it important to understand the level of measurement when analyzing data? Provide an\n",
    "example to illustrate your answer."
   ]
  },
  {
   "cell_type": "markdown",
   "id": "3484f119-7e59-4ada-bdee-c1da17acb25b",
   "metadata": {},
   "source": [
    "Ans. Understanding the level of measurement is crucial when analyzing data because it determines the appropriate statistical techniques that can be used, the type of graphs that can be created, and the conclusions that can be drawn. Each level of measurement provides different information about the data and dictates which operations and comparisons are meaningful.\n",
    "\n",
    "Example that illustrate the importance: \n",
    "\n",
    "Consider a study analyzing customer satisfaction with a new product. Customers rate their satisfaction on a scale from 1 to 5 (1 = very dissatisfied, 5 = very satisfied).\n",
    "\n",
    "If this data is treated as ordinal (which it is), we can use median and mode as measures of central tendency and non-parametric tests like the Mann-Whitney U test for hypothesis testing. Using mean and standard deviation would be inappropriate because the intervals between the ratings are not equal.\n",
    "\n",
    "If the researcher mistakenly treats this data as interval, they might calculate the mean satisfaction score and apply parametric tests like t-tests. This can be misleading because the difference between ratings (e.g., between 1 and 2 versus 4 and 5) is not necessarily consistent in the customers' perceptions.\n",
    "\n",
    "\n"
   ]
  },
  {
   "cell_type": "markdown",
   "id": "f0646536-70e7-427e-812f-229701cf0fe4",
   "metadata": {},
   "source": [
    "Q7. How nominal data type is different from ordinal data type.\n",
    "\n",
    "Ans. Nominal data is Qualitative and Categorical and the order doesn't matter in nominal data while in the ordinal data order matters. In ordinal data ranking is important while in nominal data rank doesn't matter. "
   ]
  },
  {
   "cell_type": "markdown",
   "id": "b11ce484-32dc-427a-8361-9c629524077a",
   "metadata": {},
   "source": [
    "Q8. Which type of plot can be used to display data in terms of range?\n",
    "\n",
    "Ans. A box plot, also known as a box-and-whisker plot, is an effective type of plot for displaying data in terms of range. Box plots provide a visual summary of key statistics of a dataset."
   ]
  },
  {
   "cell_type": "markdown",
   "id": "82c108c7-7f9c-4bda-bda6-6a8d6e31ed9a",
   "metadata": {},
   "source": [
    "Q9. Describe the difference between descriptive and inferential statistics. Give an example of each\n",
    "type of statistics and explain how they are used.\n",
    "\n",
    "Ans. Descriptive statistics aim to summarize and describe the main features of a dataset. They provide simple summaries about the sample and the measures.\n",
    "\n",
    "This involves measures of central tendency (mean, median, mode), measures of variability (range, variance, standard deviation), and graphical representations (histograms, pie charts, box plots).\n",
    "\n",
    "Example: Suppose you have the test scores of 100 students. Descriptive statistics could include calculating the mean score, the median score, the range of scores, and the standard deviation. You might also create a histogram to show the distribution of scores.\n",
    "\n",
    "Inferential statistics aim to make inferences about a population based on a sample. They help in drawing conclusions and making predictions or generalizations beyond the immediate data.\n",
    "\n",
    "This involves hypothesis testing, confidence intervals, regression analysis, ANOVA, and more.\n",
    "\n",
    "If you want to know whether a new teaching method is effective, you might test it on a sample of students and use inferential statistics to determine if the observed effect can be generalized to the entire student population. For instance, you could use a t-test to compare the mean test scores of students taught with the new method versus those taught with the traditional method.\n",
    " "
   ]
  },
  {
   "cell_type": "markdown",
   "id": "4a5f0bbf-c2ec-4426-a753-fb9bc1bd2598",
   "metadata": {},
   "source": [
    "Q10. What are some common measures of central tendency and variability used in statistics? Explain\n",
    "how each measure can be used to describe a dataset.\n",
    "\n",
    "Ans. Some common measures of central tendency are mean, median and mode.\n",
    "\n",
    "Mean: The sum of all data points divided by the number of data points.\n",
    "The mean provides a measure of the central value of a dataset.\n",
    "\n",
    "Example: In a dataset of test scores [70, 80, 90, 100], the mean is (70 + 80 + 90 + 100) / 4 = 85.\n",
    "\n",
    "Median: The middle value in a dataset when the values are arranged in ascending or descending order. If there's an even number of observations, it's the average of the two middle numbers.\n",
    "\n",
    "The median is a measure of central tendency that is not affected by outliers.\n",
    "Example: In the dataset [70, 80, 90, 100], the median is (80 + 90) / 2 = 85.\n",
    "\n",
    "Mode: The most frequently occurring value in a dataset.\n",
    "\n",
    "The mode represents the most common value in the dataset.\n",
    "Example: In the dataset [70, 80, 80, 90, 100], the mode is 80.\n",
    "\n",
    "Measure used to find the variability are range, varience and standard deviation:\n",
    "\n",
    "Range: The difference between the maximum and minimum values in a dataset.The range provides a measure of the spread of the data.\n",
    "Example: In the dataset [70, 80, 90, 100], the range is 100 - 70 = 30.\n",
    "\n",
    "Varience: The average of the squared differences between each data point and the mean. Variance measures the spread of data points around the mean.\n",
    "Example: For the dataset [70, 80, 90, 100], if the mean is 85, the variance is [(70-85)² + (80-85)² + (90-85)² + (100-85)²] / 4 = 125.\n",
    "\n",
    "Standard Deviation:  The square root of the variance. Standard deviation provides a measure of the average distance of data points from the mean.\n",
    "Example: For the dataset [70, 80, 90, 100], if the variance is 125, the standard deviation is √125 ≈ 11.18.\n",
    "\n"
   ]
  },
  {
   "cell_type": "code",
   "execution_count": null,
   "id": "e3586b05-630d-450e-b3c7-e5fd3ef15bef",
   "metadata": {},
   "outputs": [],
   "source": []
  }
 ],
 "metadata": {
  "kernelspec": {
   "display_name": "Python 3 (ipykernel)",
   "language": "python",
   "name": "python3"
  },
  "language_info": {
   "codemirror_mode": {
    "name": "ipython",
    "version": 3
   },
   "file_extension": ".py",
   "mimetype": "text/x-python",
   "name": "python",
   "nbconvert_exporter": "python",
   "pygments_lexer": "ipython3",
   "version": "3.10.8"
  }
 },
 "nbformat": 4,
 "nbformat_minor": 5
}
